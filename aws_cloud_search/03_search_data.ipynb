{
 "cells": [
  {
   "cell_type": "code",
   "execution_count": 1,
   "metadata": {},
   "outputs": [
    {
     "data": {
      "application/javascript": [
       "\n",
       "            setTimeout(function() {\n",
       "                var nbb_cell_id = 1;\n",
       "                var nbb_unformatted_code = \"%load_ext nb_black\";\n",
       "                var nbb_formatted_code = \"%load_ext nb_black\";\n",
       "                var nbb_cells = Jupyter.notebook.get_cells();\n",
       "                for (var i = 0; i < nbb_cells.length; ++i) {\n",
       "                    if (nbb_cells[i].input_prompt_number == nbb_cell_id) {\n",
       "                        if (nbb_cells[i].get_text() == nbb_unformatted_code) {\n",
       "                             nbb_cells[i].set_text(nbb_formatted_code);\n",
       "                        }\n",
       "                        break;\n",
       "                    }\n",
       "                }\n",
       "            }, 500);\n",
       "            "
      ],
      "text/plain": [
       "<IPython.core.display.Javascript object>"
      ]
     },
     "metadata": {},
     "output_type": "display_data"
    }
   ],
   "source": [
    "%load_ext nb_black"
   ]
  },
  {
   "cell_type": "code",
   "execution_count": 2,
   "metadata": {},
   "outputs": [
    {
     "data": {
      "application/javascript": [
       "\n",
       "            setTimeout(function() {\n",
       "                var nbb_cell_id = 2;\n",
       "                var nbb_unformatted_code = \"import boto3\\nimport json\\nimport itertools\\nimport pandas as pd\\nimport numpy as np\";\n",
       "                var nbb_formatted_code = \"import boto3\\nimport json\\nimport itertools\\nimport pandas as pd\\nimport numpy as np\";\n",
       "                var nbb_cells = Jupyter.notebook.get_cells();\n",
       "                for (var i = 0; i < nbb_cells.length; ++i) {\n",
       "                    if (nbb_cells[i].input_prompt_number == nbb_cell_id) {\n",
       "                        if (nbb_cells[i].get_text() == nbb_unformatted_code) {\n",
       "                             nbb_cells[i].set_text(nbb_formatted_code);\n",
       "                        }\n",
       "                        break;\n",
       "                    }\n",
       "                }\n",
       "            }, 500);\n",
       "            "
      ],
      "text/plain": [
       "<IPython.core.display.Javascript object>"
      ]
     },
     "metadata": {},
     "output_type": "display_data"
    }
   ],
   "source": [
    "import boto3\n",
    "import json\n",
    "import itertools\n",
    "import pandas as pd\n",
    "import numpy as np"
   ]
  },
  {
   "cell_type": "code",
   "execution_count": 3,
   "metadata": {},
   "outputs": [
    {
     "name": "stderr",
     "output_type": "stream",
     "text": [
      "Found credentials in shared credentials file: ~/.aws/credentials\n"
     ]
    },
    {
     "data": {
      "application/javascript": [
       "\n",
       "            setTimeout(function() {\n",
       "                var nbb_cell_id = 3;\n",
       "                var nbb_unformatted_code = \"cs_clnt = boto3.client(\\\"cloudsearch\\\")\";\n",
       "                var nbb_formatted_code = \"cs_clnt = boto3.client(\\\"cloudsearch\\\")\";\n",
       "                var nbb_cells = Jupyter.notebook.get_cells();\n",
       "                for (var i = 0; i < nbb_cells.length; ++i) {\n",
       "                    if (nbb_cells[i].input_prompt_number == nbb_cell_id) {\n",
       "                        if (nbb_cells[i].get_text() == nbb_unformatted_code) {\n",
       "                             nbb_cells[i].set_text(nbb_formatted_code);\n",
       "                        }\n",
       "                        break;\n",
       "                    }\n",
       "                }\n",
       "            }, 500);\n",
       "            "
      ],
      "text/plain": [
       "<IPython.core.display.Javascript object>"
      ]
     },
     "metadata": {},
     "output_type": "display_data"
    }
   ],
   "source": [
    "cs_clnt = boto3.client(\"cloudsearch\")"
   ]
  },
  {
   "cell_type": "code",
   "execution_count": 4,
   "metadata": {},
   "outputs": [
    {
     "data": {
      "application/javascript": [
       "\n",
       "            setTimeout(function() {\n",
       "                var nbb_cell_id = 4;\n",
       "                var nbb_unformatted_code = \"domain_name = \\\"mpn-mfg-2\\\"\";\n",
       "                var nbb_formatted_code = \"domain_name = \\\"mpn-mfg-2\\\"\";\n",
       "                var nbb_cells = Jupyter.notebook.get_cells();\n",
       "                for (var i = 0; i < nbb_cells.length; ++i) {\n",
       "                    if (nbb_cells[i].input_prompt_number == nbb_cell_id) {\n",
       "                        if (nbb_cells[i].get_text() == nbb_unformatted_code) {\n",
       "                             nbb_cells[i].set_text(nbb_formatted_code);\n",
       "                        }\n",
       "                        break;\n",
       "                    }\n",
       "                }\n",
       "            }, 500);\n",
       "            "
      ],
      "text/plain": [
       "<IPython.core.display.Javascript object>"
      ]
     },
     "metadata": {},
     "output_type": "display_data"
    }
   ],
   "source": [
    "domain_name = \"mpn-mfg-2\""
   ]
  },
  {
   "cell_type": "code",
   "execution_count": 5,
   "metadata": {},
   "outputs": [
    {
     "name": "stdout",
     "output_type": "stream",
     "text": [
      "doc_ep:  doc-mpn-mfg-2-35jf2boyu4jash2rk5vrcgpa34.us-west-2.cloudsearch.amazonaws.com\n",
      "search_ep:  search-mpn-mfg-2-35jf2boyu4jash2rk5vrcgpa34.us-west-2.cloudsearch.amazonaws.com\n"
     ]
    },
    {
     "data": {
      "application/javascript": [
       "\n",
       "            setTimeout(function() {\n",
       "                var nbb_cell_id = 5;\n",
       "                var nbb_unformatted_code = \"response = cs_clnt.describe_domains(DomainNames=[domain_name])\\ndoc_ep = response[\\\"DomainStatusList\\\"][0][\\\"DocService\\\"][\\\"Endpoint\\\"]\\nsearch_ep = response[\\\"DomainStatusList\\\"][0][\\\"SearchService\\\"][\\\"Endpoint\\\"]\\nprint(\\\"doc_ep: \\\", doc_ep)\\nprint(\\\"search_ep: \\\", search_ep)\";\n",
       "                var nbb_formatted_code = \"response = cs_clnt.describe_domains(DomainNames=[domain_name])\\ndoc_ep = response[\\\"DomainStatusList\\\"][0][\\\"DocService\\\"][\\\"Endpoint\\\"]\\nsearch_ep = response[\\\"DomainStatusList\\\"][0][\\\"SearchService\\\"][\\\"Endpoint\\\"]\\nprint(\\\"doc_ep: \\\", doc_ep)\\nprint(\\\"search_ep: \\\", search_ep)\";\n",
       "                var nbb_cells = Jupyter.notebook.get_cells();\n",
       "                for (var i = 0; i < nbb_cells.length; ++i) {\n",
       "                    if (nbb_cells[i].input_prompt_number == nbb_cell_id) {\n",
       "                        if (nbb_cells[i].get_text() == nbb_unformatted_code) {\n",
       "                             nbb_cells[i].set_text(nbb_formatted_code);\n",
       "                        }\n",
       "                        break;\n",
       "                    }\n",
       "                }\n",
       "            }, 500);\n",
       "            "
      ],
      "text/plain": [
       "<IPython.core.display.Javascript object>"
      ]
     },
     "metadata": {},
     "output_type": "display_data"
    }
   ],
   "source": [
    "response = cs_clnt.describe_domains(DomainNames=[domain_name])\n",
    "doc_ep = response[\"DomainStatusList\"][0][\"DocService\"][\"Endpoint\"]\n",
    "search_ep = response[\"DomainStatusList\"][0][\"SearchService\"][\"Endpoint\"]\n",
    "print(\"doc_ep: \", doc_ep)\n",
    "print(\"search_ep: \", search_ep)"
   ]
  },
  {
   "cell_type": "code",
   "execution_count": 6,
   "metadata": {},
   "outputs": [
    {
     "data": {
      "application/javascript": [
       "\n",
       "            setTimeout(function() {\n",
       "                var nbb_cell_id = 6;\n",
       "                var nbb_unformatted_code = \"# doc_client = boto3.client(\\\"cloudsearchdomain\\\", endpoint_url=f\\\"https://{doc_ep}\\\")\";\n",
       "                var nbb_formatted_code = \"# doc_client = boto3.client(\\\"cloudsearchdomain\\\", endpoint_url=f\\\"https://{doc_ep}\\\")\";\n",
       "                var nbb_cells = Jupyter.notebook.get_cells();\n",
       "                for (var i = 0; i < nbb_cells.length; ++i) {\n",
       "                    if (nbb_cells[i].input_prompt_number == nbb_cell_id) {\n",
       "                        if (nbb_cells[i].get_text() == nbb_unformatted_code) {\n",
       "                             nbb_cells[i].set_text(nbb_formatted_code);\n",
       "                        }\n",
       "                        break;\n",
       "                    }\n",
       "                }\n",
       "            }, 500);\n",
       "            "
      ],
      "text/plain": [
       "<IPython.core.display.Javascript object>"
      ]
     },
     "metadata": {},
     "output_type": "display_data"
    }
   ],
   "source": [
    "# doc_client = boto3.client(\"cloudsearchdomain\", endpoint_url=f\"https://{doc_ep}\")"
   ]
  },
  {
   "cell_type": "code",
   "execution_count": 7,
   "metadata": {},
   "outputs": [
    {
     "data": {
      "application/javascript": [
       "\n",
       "            setTimeout(function() {\n",
       "                var nbb_cell_id = 7;\n",
       "                var nbb_unformatted_code = \"search_ep = \\\"search-mpn-mfg-2-35jf2boyu4jash2rk5vrcgpa34.us-west-2.cloudsearch.amazonaws.com\\\"\";\n",
       "                var nbb_formatted_code = \"search_ep = (\\n    \\\"search-mpn-mfg-2-35jf2boyu4jash2rk5vrcgpa34.us-west-2.cloudsearch.amazonaws.com\\\"\\n)\";\n",
       "                var nbb_cells = Jupyter.notebook.get_cells();\n",
       "                for (var i = 0; i < nbb_cells.length; ++i) {\n",
       "                    if (nbb_cells[i].input_prompt_number == nbb_cell_id) {\n",
       "                        if (nbb_cells[i].get_text() == nbb_unformatted_code) {\n",
       "                             nbb_cells[i].set_text(nbb_formatted_code);\n",
       "                        }\n",
       "                        break;\n",
       "                    }\n",
       "                }\n",
       "            }, 500);\n",
       "            "
      ],
      "text/plain": [
       "<IPython.core.display.Javascript object>"
      ]
     },
     "metadata": {},
     "output_type": "display_data"
    }
   ],
   "source": [
    "search_ep = (\n",
    "    \"search-mpn-mfg-2-35jf2boyu4jash2rk5vrcgpa34.us-west-2.cloudsearch.amazonaws.com\"\n",
    ")"
   ]
  },
  {
   "cell_type": "code",
   "execution_count": 8,
   "metadata": {},
   "outputs": [
    {
     "data": {
      "application/javascript": [
       "\n",
       "            setTimeout(function() {\n",
       "                var nbb_cell_id = 8;\n",
       "                var nbb_unformatted_code = \"src_clnt = boto3.client(\\\"cloudsearchdomain\\\", endpoint_url=f\\\"https://{search_ep}\\\")\";\n",
       "                var nbb_formatted_code = \"src_clnt = boto3.client(\\\"cloudsearchdomain\\\", endpoint_url=f\\\"https://{search_ep}\\\")\";\n",
       "                var nbb_cells = Jupyter.notebook.get_cells();\n",
       "                for (var i = 0; i < nbb_cells.length; ++i) {\n",
       "                    if (nbb_cells[i].input_prompt_number == nbb_cell_id) {\n",
       "                        if (nbb_cells[i].get_text() == nbb_unformatted_code) {\n",
       "                             nbb_cells[i].set_text(nbb_formatted_code);\n",
       "                        }\n",
       "                        break;\n",
       "                    }\n",
       "                }\n",
       "            }, 500);\n",
       "            "
      ],
      "text/plain": [
       "<IPython.core.display.Javascript object>"
      ]
     },
     "metadata": {},
     "output_type": "display_data"
    }
   ],
   "source": [
    "src_clnt = boto3.client(\"cloudsearchdomain\", endpoint_url=f\"https://{search_ep}\")"
   ]
  },
  {
   "cell_type": "code",
   "execution_count": 9,
   "metadata": {},
   "outputs": [
    {
     "data": {
      "application/javascript": [
       "\n",
       "            setTimeout(function() {\n",
       "                var nbb_cell_id = 9;\n",
       "                var nbb_unformatted_code = \"def parse_response(response):\\n    # nhits = response[\\\"hits\\\"][\\\"found\\\"]\\n    nhits = len(response[\\\"hits\\\"][\\\"hit\\\"])\\n    # print(nhits)\\n    # df.explode(\\\"sub_commodity_ihs\\\")\\n    df = pd.DataFrame()\\n    for i in range(nhits):\\n        # print(response[\\\"hits\\\"][\\\"hit\\\"][i])\\n        row = response[\\\"hits\\\"][\\\"hit\\\"][i][\\\"fields\\\"]\\n        df = df.append(row, ignore_index=True)\\n\\n    # df = df.fillna(\\\"\\\").apply(list)\\n    df = df.apply(lambda s: s.fillna({i: [\\\"Unassigned\\\"] for i in df.index}))\\n\\n    for col in df.columns:\\n        df[col] = list(itertools.chain(*df[col]))\\n\\n    cols = [\\n        \\\"mpn\\\",\\n        \\\"mpn_alphanum\\\",\\n        \\\"manufacturer_ihs\\\",\\n        \\\"manufacturer_ld\\\",\\n        \\\"commodity_ihs\\\",\\n        \\\"commodity_ld\\\",\\n        \\\"sub_commodity_ihs\\\",\\n        \\\"sub_commodity_ld\\\",\\n        \\\"manufacturer_support_ihs\\\",\\n        \\\"manufacturer_evidence_ihs\\\",\\n        \\\"commodity_support_ihs\\\",\\n        \\\"commodity_evidence_ihs\\\",\\n        \\\"sub_commodity_support_ihs\\\",\\n        \\\"sub_commodity_evidence_ihs\\\",\\n        \\\"description_ihs\\\",\\n        \\\"date_ihs\\\",\\n    ]\\n\\n    df = df[cols]\\n    return df\";\n",
       "                var nbb_formatted_code = \"def parse_response(response):\\n    # nhits = response[\\\"hits\\\"][\\\"found\\\"]\\n    nhits = len(response[\\\"hits\\\"][\\\"hit\\\"])\\n    # print(nhits)\\n    # df.explode(\\\"sub_commodity_ihs\\\")\\n    df = pd.DataFrame()\\n    for i in range(nhits):\\n        # print(response[\\\"hits\\\"][\\\"hit\\\"][i])\\n        row = response[\\\"hits\\\"][\\\"hit\\\"][i][\\\"fields\\\"]\\n        df = df.append(row, ignore_index=True)\\n\\n    # df = df.fillna(\\\"\\\").apply(list)\\n    df = df.apply(lambda s: s.fillna({i: [\\\"Unassigned\\\"] for i in df.index}))\\n\\n    for col in df.columns:\\n        df[col] = list(itertools.chain(*df[col]))\\n\\n    cols = [\\n        \\\"mpn\\\",\\n        \\\"mpn_alphanum\\\",\\n        \\\"manufacturer_ihs\\\",\\n        \\\"manufacturer_ld\\\",\\n        \\\"commodity_ihs\\\",\\n        \\\"commodity_ld\\\",\\n        \\\"sub_commodity_ihs\\\",\\n        \\\"sub_commodity_ld\\\",\\n        \\\"manufacturer_support_ihs\\\",\\n        \\\"manufacturer_evidence_ihs\\\",\\n        \\\"commodity_support_ihs\\\",\\n        \\\"commodity_evidence_ihs\\\",\\n        \\\"sub_commodity_support_ihs\\\",\\n        \\\"sub_commodity_evidence_ihs\\\",\\n        \\\"description_ihs\\\",\\n        \\\"date_ihs\\\",\\n    ]\\n\\n    df = df[cols]\\n    return df\";\n",
       "                var nbb_cells = Jupyter.notebook.get_cells();\n",
       "                for (var i = 0; i < nbb_cells.length; ++i) {\n",
       "                    if (nbb_cells[i].input_prompt_number == nbb_cell_id) {\n",
       "                        if (nbb_cells[i].get_text() == nbb_unformatted_code) {\n",
       "                             nbb_cells[i].set_text(nbb_formatted_code);\n",
       "                        }\n",
       "                        break;\n",
       "                    }\n",
       "                }\n",
       "            }, 500);\n",
       "            "
      ],
      "text/plain": [
       "<IPython.core.display.Javascript object>"
      ]
     },
     "metadata": {},
     "output_type": "display_data"
    }
   ],
   "source": [
    "def parse_response(response):\n",
    "    # nhits = response[\"hits\"][\"found\"]\n",
    "    nhits = len(response[\"hits\"][\"hit\"])\n",
    "    # print(nhits)\n",
    "    # df.explode(\"sub_commodity_ihs\")\n",
    "    df = pd.DataFrame()\n",
    "    for i in range(nhits):\n",
    "        # print(response[\"hits\"][\"hit\"][i])\n",
    "        row = response[\"hits\"][\"hit\"][i][\"fields\"]\n",
    "        df = df.append(row, ignore_index=True)\n",
    "\n",
    "    # df = df.fillna(\"\").apply(list)\n",
    "    df = df.apply(lambda s: s.fillna({i: [\"Unassigned\"] for i in df.index}))\n",
    "\n",
    "    for col in df.columns:\n",
    "        df[col] = list(itertools.chain(*df[col]))\n",
    "\n",
    "    cols = [\n",
    "        \"mpn\",\n",
    "        \"mpn_alphanum\",\n",
    "        \"manufacturer_ihs\",\n",
    "        \"manufacturer_ld\",\n",
    "        \"commodity_ihs\",\n",
    "        \"commodity_ld\",\n",
    "        \"sub_commodity_ihs\",\n",
    "        \"sub_commodity_ld\",\n",
    "        \"manufacturer_support_ihs\",\n",
    "        \"manufacturer_evidence_ihs\",\n",
    "        \"commodity_support_ihs\",\n",
    "        \"commodity_evidence_ihs\",\n",
    "        \"sub_commodity_support_ihs\",\n",
    "        \"sub_commodity_evidence_ihs\",\n",
    "        \"description_ihs\",\n",
    "        \"date_ihs\",\n",
    "    ]\n",
    "\n",
    "    df = df[cols]\n",
    "    return df"
   ]
  },
  {
   "cell_type": "code",
   "execution_count": null,
   "metadata": {},
   "outputs": [],
   "source": []
  },
  {
   "cell_type": "markdown",
   "metadata": {},
   "source": [
    "#### single mpn"
   ]
  },
  {
   "cell_type": "code",
   "execution_count": 10,
   "metadata": {},
   "outputs": [
    {
     "name": "stdout",
     "output_type": "stream",
     "text": [
      "CPU times: user 80.2 ms, sys: 5.93 ms, total: 86.1 ms\n",
      "Wall time: 924 ms\n"
     ]
    },
    {
     "data": {
      "text/html": [
       "<div><div id=3972a625-8bf4-4673-a8a6-deb816cdafa1 style=\"display:none; background-color:#9D6CFF; color:white; width:200px; height:30px; padding-left:5px; border-radius:4px; flex-direction:row; justify-content:space-around; align-items:center;\" onmouseover=\"this.style.backgroundColor='#BA9BF8'\" onmouseout=\"this.style.backgroundColor='#9D6CFF'\" onclick=\"window.commands?.execute('create-mitosheet-from-dataframe-output');\">See Full Dataframe in Mito</div> <script> if (window.commands?.hasCommand('create-mitosheet-from-dataframe-output')) document.getElementById('3972a625-8bf4-4673-a8a6-deb816cdafa1').style.display = 'flex' </script> <table border=\"1\" class=\"dataframe\">\n",
       "  <thead>\n",
       "    <tr style=\"text-align: right;\">\n",
       "      <th></th>\n",
       "      <th>mpn</th>\n",
       "      <th>mpn_alphanum</th>\n",
       "      <th>manufacturer_ihs</th>\n",
       "      <th>manufacturer_ld</th>\n",
       "      <th>commodity_ihs</th>\n",
       "      <th>commodity_ld</th>\n",
       "      <th>sub_commodity_ihs</th>\n",
       "      <th>sub_commodity_ld</th>\n",
       "      <th>manufacturer_support_ihs</th>\n",
       "      <th>manufacturer_evidence_ihs</th>\n",
       "      <th>commodity_support_ihs</th>\n",
       "      <th>commodity_evidence_ihs</th>\n",
       "      <th>sub_commodity_support_ihs</th>\n",
       "      <th>sub_commodity_evidence_ihs</th>\n",
       "      <th>description_ihs</th>\n",
       "      <th>date_ihs</th>\n",
       "    </tr>\n",
       "  </thead>\n",
       "  <tbody>\n",
       "    <tr>\n",
       "      <th>0</th>\n",
       "      <td>RMCF1/16S3.92K1%</td>\n",
       "      <td>RMCF116S392K1</td>\n",
       "      <td>SEI ELEK</td>\n",
       "      <td>STACKPOLE ELECTRONICS</td>\n",
       "      <td>RESISTORS</td>\n",
       "      <td>EE_PASSIVES</td>\n",
       "      <td>FIXED RESISTORS</td>\n",
       "      <td>FIXED RESISTORS</td>\n",
       "      <td>2</td>\n",
       "      <td>100.0</td>\n",
       "      <td>8</td>\n",
       "      <td>100</td>\n",
       "      <td>8</td>\n",
       "      <td>100</td>\n",
       "      <td>ihs description</td>\n",
       "      <td>2022-05-01T00:00:00Z</td>\n",
       "    </tr>\n",
       "  </tbody>\n",
       "</table></div>"
      ],
      "text/plain": [
       "                mpn   mpn_alphanum manufacturer_ihs        manufacturer_ld  \\\n",
       "0  RMCF1/16S3.92K1%  RMCF116S392K1         SEI ELEK  STACKPOLE ELECTRONICS   \n",
       "\n",
       "  commodity_ihs commodity_ld sub_commodity_ihs sub_commodity_ld  \\\n",
       "0     RESISTORS  EE_PASSIVES   FIXED RESISTORS  FIXED RESISTORS   \n",
       "\n",
       "  manufacturer_support_ihs manufacturer_evidence_ihs commodity_support_ihs  \\\n",
       "0                        2                     100.0                     8   \n",
       "\n",
       "  commodity_evidence_ihs sub_commodity_support_ihs sub_commodity_evidence_ihs  \\\n",
       "0                    100                         8                        100   \n",
       "\n",
       "   description_ihs              date_ihs  \n",
       "0  ihs description  2022-05-01T00:00:00Z  "
      ]
     },
     "execution_count": 10,
     "metadata": {},
     "output_type": "execute_result"
    },
    {
     "data": {
      "application/javascript": [
       "\n",
       "            setTimeout(function() {\n",
       "                var nbb_cell_id = 10;\n",
       "                var nbb_unformatted_code = \"%%time\\nquery = \\\"NRC04J164TR50F\\\"\\nquery = 'RMCF1/16S3.92K1%'\\n\\nresponse = src_clnt.search(\\n    query=query,\\n    #queryParser=\\\"simple\\\",\\n    partial=True,\\n    queryOptions='{\\\"fields\\\":[\\\"_id\\\"]}',\\n)\\nparse_response(response)\";\n",
       "                var nbb_formatted_code = \"%%time\\nquery = \\\"NRC04J164TR50F\\\"\\nquery = 'RMCF1/16S3.92K1%'\\n\\nresponse = src_clnt.search(\\n    query=query,\\n    #queryParser=\\\"simple\\\",\\n    partial=True,\\n    queryOptions='{\\\"fields\\\":[\\\"_id\\\"]}',\\n)\\nparse_response(response)\";\n",
       "                var nbb_cells = Jupyter.notebook.get_cells();\n",
       "                for (var i = 0; i < nbb_cells.length; ++i) {\n",
       "                    if (nbb_cells[i].input_prompt_number == nbb_cell_id) {\n",
       "                        if (nbb_cells[i].get_text() == nbb_unformatted_code) {\n",
       "                             nbb_cells[i].set_text(nbb_formatted_code);\n",
       "                        }\n",
       "                        break;\n",
       "                    }\n",
       "                }\n",
       "            }, 500);\n",
       "            "
      ],
      "text/plain": [
       "<IPython.core.display.Javascript object>"
      ]
     },
     "metadata": {},
     "output_type": "display_data"
    }
   ],
   "source": [
    "%%time\n",
    "query = \"NRC04J164TR50F\"\n",
    "query = 'RMCF1/16S3.92K1%'\n",
    "\n",
    "response = src_clnt.search(\n",
    "    query=query,\n",
    "    #queryParser=\"simple\",\n",
    "    partial=True,\n",
    "    queryOptions='{\"fields\":[\"_id\"]}',\n",
    ")\n",
    "parse_response(response)"
   ]
  },
  {
   "cell_type": "markdown",
   "metadata": {},
   "source": [
    "#### multiple mpns"
   ]
  },
  {
   "cell_type": "code",
   "execution_count": 11,
   "metadata": {},
   "outputs": [
    {
     "name": "stdout",
     "output_type": "stream",
     "text": [
      "ABCD | RCA040218R0FKEE | CRCW120633K0JNECIF | NRC04J164TR50F | \n",
      "CPU times: user 56.4 ms, sys: 2.33 ms, total: 58.7 ms\n",
      "Wall time: 316 ms\n"
     ]
    },
    {
     "data": {
      "text/html": [
       "<div><div id=36251cf3-7bf9-402a-b7b1-87e54f60c74d style=\"display:none; background-color:#9D6CFF; color:white; width:200px; height:30px; padding-left:5px; border-radius:4px; flex-direction:row; justify-content:space-around; align-items:center;\" onmouseover=\"this.style.backgroundColor='#BA9BF8'\" onmouseout=\"this.style.backgroundColor='#9D6CFF'\" onclick=\"window.commands?.execute('create-mitosheet-from-dataframe-output');\">See Full Dataframe in Mito</div> <script> if (window.commands?.hasCommand('create-mitosheet-from-dataframe-output')) document.getElementById('36251cf3-7bf9-402a-b7b1-87e54f60c74d').style.display = 'flex' </script> <table border=\"1\" class=\"dataframe\">\n",
       "  <thead>\n",
       "    <tr style=\"text-align: right;\">\n",
       "      <th></th>\n",
       "      <th>mpn</th>\n",
       "      <th>mpn_alphanum</th>\n",
       "      <th>manufacturer_ihs</th>\n",
       "      <th>manufacturer_ld</th>\n",
       "      <th>commodity_ihs</th>\n",
       "      <th>commodity_ld</th>\n",
       "      <th>sub_commodity_ihs</th>\n",
       "      <th>sub_commodity_ld</th>\n",
       "      <th>manufacturer_support_ihs</th>\n",
       "      <th>manufacturer_evidence_ihs</th>\n",
       "      <th>commodity_support_ihs</th>\n",
       "      <th>commodity_evidence_ihs</th>\n",
       "      <th>sub_commodity_support_ihs</th>\n",
       "      <th>sub_commodity_evidence_ihs</th>\n",
       "      <th>description_ihs</th>\n",
       "      <th>date_ihs</th>\n",
       "    </tr>\n",
       "  </thead>\n",
       "  <tbody>\n",
       "    <tr>\n",
       "      <th>0</th>\n",
       "      <td>CRCW120633K0JNECIF</td>\n",
       "      <td>CRCW120633K0JNECIF</td>\n",
       "      <td>VISHAY</td>\n",
       "      <td>VISHAY</td>\n",
       "      <td>RESISTORS</td>\n",
       "      <td>EE_PASSIVES</td>\n",
       "      <td>FIXED RESISTORS</td>\n",
       "      <td>FIXED RESISTORS</td>\n",
       "      <td>2</td>\n",
       "      <td>100.0</td>\n",
       "      <td>2</td>\n",
       "      <td>100</td>\n",
       "      <td>2</td>\n",
       "      <td>100</td>\n",
       "      <td>ihs description</td>\n",
       "      <td>2022-05-01T00:00:00Z</td>\n",
       "    </tr>\n",
       "    <tr>\n",
       "      <th>1</th>\n",
       "      <td>NRC04J164TR50F</td>\n",
       "      <td>NRC04J164TR50F</td>\n",
       "      <td>NIC</td>\n",
       "      <td>NIC COMPONENTS</td>\n",
       "      <td>RESISTORS</td>\n",
       "      <td>EE_PASSIVES</td>\n",
       "      <td>FIXED RESISTORS</td>\n",
       "      <td>FIXED RESISTORS</td>\n",
       "      <td>2</td>\n",
       "      <td>100.0</td>\n",
       "      <td>2</td>\n",
       "      <td>100</td>\n",
       "      <td>2</td>\n",
       "      <td>100</td>\n",
       "      <td>ihs description</td>\n",
       "      <td>2022-05-01T00:00:00Z</td>\n",
       "    </tr>\n",
       "    <tr>\n",
       "      <th>2</th>\n",
       "      <td>RCA040218R0FKEE</td>\n",
       "      <td>RCA040218R0FKEE</td>\n",
       "      <td>VISHAY</td>\n",
       "      <td>VISHAY</td>\n",
       "      <td>RESISTORS</td>\n",
       "      <td>EE_PASSIVES</td>\n",
       "      <td>FIXED RESISTORS</td>\n",
       "      <td>FIXED RESISTORS</td>\n",
       "      <td>2</td>\n",
       "      <td>100.0</td>\n",
       "      <td>2</td>\n",
       "      <td>100</td>\n",
       "      <td>2</td>\n",
       "      <td>100</td>\n",
       "      <td>ihs description</td>\n",
       "      <td>2022-05-01T00:00:00Z</td>\n",
       "    </tr>\n",
       "  </tbody>\n",
       "</table></div>"
      ],
      "text/plain": [
       "                  mpn        mpn_alphanum manufacturer_ihs manufacturer_ld  \\\n",
       "0  CRCW120633K0JNECIF  CRCW120633K0JNECIF           VISHAY          VISHAY   \n",
       "1      NRC04J164TR50F      NRC04J164TR50F              NIC  NIC COMPONENTS   \n",
       "2     RCA040218R0FKEE     RCA040218R0FKEE           VISHAY          VISHAY   \n",
       "\n",
       "  commodity_ihs commodity_ld sub_commodity_ihs sub_commodity_ld  \\\n",
       "0     RESISTORS  EE_PASSIVES   FIXED RESISTORS  FIXED RESISTORS   \n",
       "1     RESISTORS  EE_PASSIVES   FIXED RESISTORS  FIXED RESISTORS   \n",
       "2     RESISTORS  EE_PASSIVES   FIXED RESISTORS  FIXED RESISTORS   \n",
       "\n",
       "  manufacturer_support_ihs manufacturer_evidence_ihs commodity_support_ihs  \\\n",
       "0                        2                     100.0                     2   \n",
       "1                        2                     100.0                     2   \n",
       "2                        2                     100.0                     2   \n",
       "\n",
       "  commodity_evidence_ihs sub_commodity_support_ihs sub_commodity_evidence_ihs  \\\n",
       "0                    100                         2                        100   \n",
       "1                    100                         2                        100   \n",
       "2                    100                         2                        100   \n",
       "\n",
       "   description_ihs              date_ihs  \n",
       "0  ihs description  2022-05-01T00:00:00Z  \n",
       "1  ihs description  2022-05-01T00:00:00Z  \n",
       "2  ihs description  2022-05-01T00:00:00Z  "
      ]
     },
     "execution_count": 11,
     "metadata": {},
     "output_type": "execute_result"
    },
    {
     "data": {
      "application/javascript": [
       "\n",
       "            setTimeout(function() {\n",
       "                var nbb_cell_id = 11;\n",
       "                var nbb_unformatted_code = \"%%time\\n\\nmpns = [\\\"NRC04J164TR50F\\\", \\\"CRCW120633K0JNECIF\\\", \\\"RCA040218R0FKEE\\\", \\\"ABCD\\\"]\\n\\nquery = \\\"\\\"\\nfor mpn in mpns:\\n    query = mpn + \\\" | \\\" + query\\nprint(query)\\n\\nresponse = src_clnt.search(\\n    query=query,\\n    #queryParser=\\\"simple\\\",\\n    partial=True,\\n    queryOptions='{\\\"fields\\\":[\\\"_id\\\"]}',\\n)\\nparse_response(response)\";\n",
       "                var nbb_formatted_code = \"%%time\\n\\nmpns = [\\\"NRC04J164TR50F\\\", \\\"CRCW120633K0JNECIF\\\", \\\"RCA040218R0FKEE\\\", \\\"ABCD\\\"]\\n\\nquery = \\\"\\\"\\nfor mpn in mpns:\\n    query = mpn + \\\" | \\\" + query\\nprint(query)\\n\\nresponse = src_clnt.search(\\n    query=query,\\n    #queryParser=\\\"simple\\\",\\n    partial=True,\\n    queryOptions='{\\\"fields\\\":[\\\"_id\\\"]}',\\n)\\nparse_response(response)\";\n",
       "                var nbb_cells = Jupyter.notebook.get_cells();\n",
       "                for (var i = 0; i < nbb_cells.length; ++i) {\n",
       "                    if (nbb_cells[i].input_prompt_number == nbb_cell_id) {\n",
       "                        if (nbb_cells[i].get_text() == nbb_unformatted_code) {\n",
       "                             nbb_cells[i].set_text(nbb_formatted_code);\n",
       "                        }\n",
       "                        break;\n",
       "                    }\n",
       "                }\n",
       "            }, 500);\n",
       "            "
      ],
      "text/plain": [
       "<IPython.core.display.Javascript object>"
      ]
     },
     "metadata": {},
     "output_type": "display_data"
    }
   ],
   "source": [
    "%%time\n",
    "\n",
    "mpns = [\"NRC04J164TR50F\", \"CRCW120633K0JNECIF\", \"RCA040218R0FKEE\", \"ABCD\"]\n",
    "\n",
    "query = \"\"\n",
    "for mpn in mpns:\n",
    "    query = mpn + \" | \" + query\n",
    "print(query)\n",
    "\n",
    "response = src_clnt.search(\n",
    "    query=query,\n",
    "    #queryParser=\"simple\",\n",
    "    #partial=True,\n",
    "    queryOptions='{\"fields\":[\"_id\"]}',\n",
    ")\n",
    "parse_response(response)"
   ]
  },
  {
   "cell_type": "markdown",
   "metadata": {},
   "source": [
    "#### prefix"
   ]
  },
  {
   "cell_type": "code",
   "execution_count": 12,
   "metadata": {},
   "outputs": [
    {
     "name": "stdout",
     "output_type": "stream",
     "text": [
      "CPU times: user 50.3 ms, sys: 1.62 ms, total: 52 ms\n",
      "Wall time: 260 ms\n"
     ]
    },
    {
     "data": {
      "text/html": [
       "<div><div id=a24c5eb0-98e4-40d6-a2e7-6ddf6b3330f0 style=\"display:none; background-color:#9D6CFF; color:white; width:200px; height:30px; padding-left:5px; border-radius:4px; flex-direction:row; justify-content:space-around; align-items:center;\" onmouseover=\"this.style.backgroundColor='#BA9BF8'\" onmouseout=\"this.style.backgroundColor='#9D6CFF'\" onclick=\"window.commands?.execute('create-mitosheet-from-dataframe-output');\">See Full Dataframe in Mito</div> <script> if (window.commands?.hasCommand('create-mitosheet-from-dataframe-output')) document.getElementById('a24c5eb0-98e4-40d6-a2e7-6ddf6b3330f0').style.display = 'flex' </script> <table border=\"1\" class=\"dataframe\">\n",
       "  <thead>\n",
       "    <tr style=\"text-align: right;\">\n",
       "      <th></th>\n",
       "      <th>mpn</th>\n",
       "      <th>mpn_alphanum</th>\n",
       "      <th>manufacturer_ihs</th>\n",
       "      <th>manufacturer_ld</th>\n",
       "      <th>commodity_ihs</th>\n",
       "      <th>commodity_ld</th>\n",
       "      <th>sub_commodity_ihs</th>\n",
       "      <th>sub_commodity_ld</th>\n",
       "      <th>manufacturer_support_ihs</th>\n",
       "      <th>manufacturer_evidence_ihs</th>\n",
       "      <th>commodity_support_ihs</th>\n",
       "      <th>commodity_evidence_ihs</th>\n",
       "      <th>sub_commodity_support_ihs</th>\n",
       "      <th>sub_commodity_evidence_ihs</th>\n",
       "      <th>description_ihs</th>\n",
       "      <th>date_ihs</th>\n",
       "    </tr>\n",
       "  </thead>\n",
       "  <tbody>\n",
       "    <tr>\n",
       "      <th>0</th>\n",
       "      <td>NRC04J563TRF</td>\n",
       "      <td>NRC04J563TRF</td>\n",
       "      <td>NIC</td>\n",
       "      <td>NIC COMPONENTS</td>\n",
       "      <td>RESISTORS</td>\n",
       "      <td>EE_PASSIVES</td>\n",
       "      <td>FIXED RESISTORS</td>\n",
       "      <td>FIXED RESISTORS</td>\n",
       "      <td>3</td>\n",
       "      <td>66.0</td>\n",
       "      <td>5</td>\n",
       "      <td>100</td>\n",
       "      <td>5</td>\n",
       "      <td>100</td>\n",
       "      <td>ihs description</td>\n",
       "      <td>2022-05-01T00:00:00Z</td>\n",
       "    </tr>\n",
       "    <tr>\n",
       "      <th>1</th>\n",
       "      <td>NRC04J5R6TR10F</td>\n",
       "      <td>NRC04J5R6TR10F</td>\n",
       "      <td>NIC</td>\n",
       "      <td>NIC COMPONENTS</td>\n",
       "      <td>RESISTORS</td>\n",
       "      <td>EE_PASSIVES</td>\n",
       "      <td>FIXED RESISTORS</td>\n",
       "      <td>FIXED RESISTORS</td>\n",
       "      <td>2</td>\n",
       "      <td>100.0</td>\n",
       "      <td>2</td>\n",
       "      <td>100</td>\n",
       "      <td>2</td>\n",
       "      <td>100</td>\n",
       "      <td>ihs description</td>\n",
       "      <td>2022-05-01T00:00:00Z</td>\n",
       "    </tr>\n",
       "  </tbody>\n",
       "</table></div>"
      ],
      "text/plain": [
       "              mpn    mpn_alphanum manufacturer_ihs manufacturer_ld  \\\n",
       "0    NRC04J563TRF    NRC04J563TRF              NIC  NIC COMPONENTS   \n",
       "1  NRC04J5R6TR10F  NRC04J5R6TR10F              NIC  NIC COMPONENTS   \n",
       "\n",
       "  commodity_ihs commodity_ld sub_commodity_ihs sub_commodity_ld  \\\n",
       "0     RESISTORS  EE_PASSIVES   FIXED RESISTORS  FIXED RESISTORS   \n",
       "1     RESISTORS  EE_PASSIVES   FIXED RESISTORS  FIXED RESISTORS   \n",
       "\n",
       "  manufacturer_support_ihs manufacturer_evidence_ihs commodity_support_ihs  \\\n",
       "0                        3                      66.0                     5   \n",
       "1                        2                     100.0                     2   \n",
       "\n",
       "  commodity_evidence_ihs sub_commodity_support_ihs sub_commodity_evidence_ihs  \\\n",
       "0                    100                         5                        100   \n",
       "1                    100                         2                        100   \n",
       "\n",
       "   description_ihs              date_ihs  \n",
       "0  ihs description  2022-05-01T00:00:00Z  \n",
       "1  ihs description  2022-05-01T00:00:00Z  "
      ]
     },
     "execution_count": 12,
     "metadata": {},
     "output_type": "execute_result"
    },
    {
     "data": {
      "application/javascript": [
       "\n",
       "            setTimeout(function() {\n",
       "                var nbb_cell_id = 12;\n",
       "                var nbb_unformatted_code = \"%%time\\n\\n\\nquery = \\\"NRC04J5*\\\"\\n\\nresponse = src_clnt.search(\\n    query=query,\\n    #queryParser=\\\"simple\\\",\\n    partial=True,\\n    queryOptions='{\\\"fields\\\":[\\\"_id\\\"]}',\\n)\\nparse_response(response)\";\n",
       "                var nbb_formatted_code = \"%%time\\n\\n\\nquery = \\\"NRC04J5*\\\"\\n\\nresponse = src_clnt.search(\\n    query=query,\\n    #queryParser=\\\"simple\\\",\\n    partial=True,\\n    queryOptions='{\\\"fields\\\":[\\\"_id\\\"]}',\\n)\\nparse_response(response)\";\n",
       "                var nbb_cells = Jupyter.notebook.get_cells();\n",
       "                for (var i = 0; i < nbb_cells.length; ++i) {\n",
       "                    if (nbb_cells[i].input_prompt_number == nbb_cell_id) {\n",
       "                        if (nbb_cells[i].get_text() == nbb_unformatted_code) {\n",
       "                             nbb_cells[i].set_text(nbb_formatted_code);\n",
       "                        }\n",
       "                        break;\n",
       "                    }\n",
       "                }\n",
       "            }, 500);\n",
       "            "
      ],
      "text/plain": [
       "<IPython.core.display.Javascript object>"
      ]
     },
     "metadata": {},
     "output_type": "display_data"
    }
   ],
   "source": [
    "%%time\n",
    "\n",
    "\n",
    "query = \"NRC04J5*\"\n",
    "\n",
    "response = src_clnt.search(\n",
    "    query=query,\n",
    "    #queryParser=\"simple\",\n",
    "    partial=True,\n",
    "    queryOptions='{\"fields\":[\"_id\"]}',\n",
    ")\n",
    "parse_response(response)"
   ]
  },
  {
   "cell_type": "markdown",
   "metadata": {},
   "source": [
    "#### prefix & postfix"
   ]
  },
  {
   "cell_type": "code",
   "execution_count": 13,
   "metadata": {},
   "outputs": [
    {
     "name": "stdout",
     "output_type": "stream",
     "text": [
      "CPU times: user 45.9 ms, sys: 1.78 ms, total: 47.7 ms\n",
      "Wall time: 360 ms\n"
     ]
    },
    {
     "data": {
      "text/html": [
       "<div><div id=9de2171c-7c59-4ed6-a21b-bc1341f8ef9d style=\"display:none; background-color:#9D6CFF; color:white; width:200px; height:30px; padding-left:5px; border-radius:4px; flex-direction:row; justify-content:space-around; align-items:center;\" onmouseover=\"this.style.backgroundColor='#BA9BF8'\" onmouseout=\"this.style.backgroundColor='#9D6CFF'\" onclick=\"window.commands?.execute('create-mitosheet-from-dataframe-output');\">See Full Dataframe in Mito</div> <script> if (window.commands?.hasCommand('create-mitosheet-from-dataframe-output')) document.getElementById('9de2171c-7c59-4ed6-a21b-bc1341f8ef9d').style.display = 'flex' </script> <table border=\"1\" class=\"dataframe\">\n",
       "  <thead>\n",
       "    <tr style=\"text-align: right;\">\n",
       "      <th></th>\n",
       "      <th>mpn</th>\n",
       "      <th>mpn_alphanum</th>\n",
       "      <th>manufacturer_ihs</th>\n",
       "      <th>manufacturer_ld</th>\n",
       "      <th>commodity_ihs</th>\n",
       "      <th>commodity_ld</th>\n",
       "      <th>sub_commodity_ihs</th>\n",
       "      <th>sub_commodity_ld</th>\n",
       "      <th>manufacturer_support_ihs</th>\n",
       "      <th>manufacturer_evidence_ihs</th>\n",
       "      <th>commodity_support_ihs</th>\n",
       "      <th>commodity_evidence_ihs</th>\n",
       "      <th>sub_commodity_support_ihs</th>\n",
       "      <th>sub_commodity_evidence_ihs</th>\n",
       "      <th>description_ihs</th>\n",
       "      <th>date_ihs</th>\n",
       "    </tr>\n",
       "  </thead>\n",
       "  <tbody>\n",
       "    <tr>\n",
       "      <th>0</th>\n",
       "      <td>NRC04J164TR50F</td>\n",
       "      <td>NRC04J164TR50F</td>\n",
       "      <td>NIC</td>\n",
       "      <td>NIC COMPONENTS</td>\n",
       "      <td>RESISTORS</td>\n",
       "      <td>EE_PASSIVES</td>\n",
       "      <td>FIXED RESISTORS</td>\n",
       "      <td>FIXED RESISTORS</td>\n",
       "      <td>2</td>\n",
       "      <td>100.0</td>\n",
       "      <td>2</td>\n",
       "      <td>100</td>\n",
       "      <td>2</td>\n",
       "      <td>100</td>\n",
       "      <td>ihs description</td>\n",
       "      <td>2022-05-01T00:00:00Z</td>\n",
       "    </tr>\n",
       "    <tr>\n",
       "      <th>1</th>\n",
       "      <td>NRC04J752HTR50F</td>\n",
       "      <td>NRC04J752HTR50F</td>\n",
       "      <td>NIC</td>\n",
       "      <td>NIC COMPONENTS</td>\n",
       "      <td>RESISTORS</td>\n",
       "      <td>EE_PASSIVES</td>\n",
       "      <td>FIXED RESISTORS</td>\n",
       "      <td>FIXED RESISTORS</td>\n",
       "      <td>2</td>\n",
       "      <td>100.0</td>\n",
       "      <td>2</td>\n",
       "      <td>100</td>\n",
       "      <td>2</td>\n",
       "      <td>100</td>\n",
       "      <td>ihs description</td>\n",
       "      <td>2022-05-01T00:00:00Z</td>\n",
       "    </tr>\n",
       "  </tbody>\n",
       "</table></div>"
      ],
      "text/plain": [
       "               mpn     mpn_alphanum manufacturer_ihs manufacturer_ld  \\\n",
       "0   NRC04J164TR50F   NRC04J164TR50F              NIC  NIC COMPONENTS   \n",
       "1  NRC04J752HTR50F  NRC04J752HTR50F              NIC  NIC COMPONENTS   \n",
       "\n",
       "  commodity_ihs commodity_ld sub_commodity_ihs sub_commodity_ld  \\\n",
       "0     RESISTORS  EE_PASSIVES   FIXED RESISTORS  FIXED RESISTORS   \n",
       "1     RESISTORS  EE_PASSIVES   FIXED RESISTORS  FIXED RESISTORS   \n",
       "\n",
       "  manufacturer_support_ihs manufacturer_evidence_ihs commodity_support_ihs  \\\n",
       "0                        2                     100.0                     2   \n",
       "1                        2                     100.0                     2   \n",
       "\n",
       "  commodity_evidence_ihs sub_commodity_support_ihs sub_commodity_evidence_ihs  \\\n",
       "0                    100                         2                        100   \n",
       "1                    100                         2                        100   \n",
       "\n",
       "   description_ihs              date_ihs  \n",
       "0  ihs description  2022-05-01T00:00:00Z  \n",
       "1  ihs description  2022-05-01T00:00:00Z  "
      ]
     },
     "execution_count": 13,
     "metadata": {},
     "output_type": "execute_result"
    },
    {
     "data": {
      "application/javascript": [
       "\n",
       "            setTimeout(function() {\n",
       "                var nbb_cell_id = 13;\n",
       "                var nbb_unformatted_code = \"%%time\\nquery = \\\"NRC04J*TR50F\\\"\\n\\nresponse = src_clnt.search(\\n    query=query,\\n    queryParser=\\\"lucene\\\",\\n    partial=True,\\n    queryOptions='{\\\"fields\\\":[\\\"_id\\\"]}',\\n)\\nparse_response(response)\";\n",
       "                var nbb_formatted_code = \"%%time\\nquery = \\\"NRC04J*TR50F\\\"\\n\\nresponse = src_clnt.search(\\n    query=query,\\n    queryParser=\\\"lucene\\\",\\n    partial=True,\\n    queryOptions='{\\\"fields\\\":[\\\"_id\\\"]}',\\n)\\nparse_response(response)\";\n",
       "                var nbb_cells = Jupyter.notebook.get_cells();\n",
       "                for (var i = 0; i < nbb_cells.length; ++i) {\n",
       "                    if (nbb_cells[i].input_prompt_number == nbb_cell_id) {\n",
       "                        if (nbb_cells[i].get_text() == nbb_unformatted_code) {\n",
       "                             nbb_cells[i].set_text(nbb_formatted_code);\n",
       "                        }\n",
       "                        break;\n",
       "                    }\n",
       "                }\n",
       "            }, 500);\n",
       "            "
      ],
      "text/plain": [
       "<IPython.core.display.Javascript object>"
      ]
     },
     "metadata": {},
     "output_type": "display_data"
    }
   ],
   "source": [
    "%%time\n",
    "query = \"NRC04J*TR50F\"\n",
    "\n",
    "response = src_clnt.search(\n",
    "    query=query,\n",
    "    queryParser=\"lucene\",\n",
    "    partial=True,\n",
    "    queryOptions='{\"fields\":[\"_id\"]}',\n",
    ")\n",
    "parse_response(response)"
   ]
  },
  {
   "cell_type": "markdown",
   "metadata": {},
   "source": [
    "#### prefix & postfix with fixed number of chars in the middle"
   ]
  },
  {
   "cell_type": "code",
   "execution_count": 14,
   "metadata": {},
   "outputs": [
    {
     "name": "stdout",
     "output_type": "stream",
     "text": [
      "CPU times: user 44.8 ms, sys: 1.91 ms, total: 46.7 ms\n",
      "Wall time: 259 ms\n"
     ]
    },
    {
     "data": {
      "text/html": [
       "<div><div id=b5be718b-eade-49f4-b334-74b418cb7ffd style=\"display:none; background-color:#9D6CFF; color:white; width:200px; height:30px; padding-left:5px; border-radius:4px; flex-direction:row; justify-content:space-around; align-items:center;\" onmouseover=\"this.style.backgroundColor='#BA9BF8'\" onmouseout=\"this.style.backgroundColor='#9D6CFF'\" onclick=\"window.commands?.execute('create-mitosheet-from-dataframe-output');\">See Full Dataframe in Mito</div> <script> if (window.commands?.hasCommand('create-mitosheet-from-dataframe-output')) document.getElementById('b5be718b-eade-49f4-b334-74b418cb7ffd').style.display = 'flex' </script> <table border=\"1\" class=\"dataframe\">\n",
       "  <thead>\n",
       "    <tr style=\"text-align: right;\">\n",
       "      <th></th>\n",
       "      <th>mpn</th>\n",
       "      <th>mpn_alphanum</th>\n",
       "      <th>manufacturer_ihs</th>\n",
       "      <th>manufacturer_ld</th>\n",
       "      <th>commodity_ihs</th>\n",
       "      <th>commodity_ld</th>\n",
       "      <th>sub_commodity_ihs</th>\n",
       "      <th>sub_commodity_ld</th>\n",
       "      <th>manufacturer_support_ihs</th>\n",
       "      <th>manufacturer_evidence_ihs</th>\n",
       "      <th>commodity_support_ihs</th>\n",
       "      <th>commodity_evidence_ihs</th>\n",
       "      <th>sub_commodity_support_ihs</th>\n",
       "      <th>sub_commodity_evidence_ihs</th>\n",
       "      <th>description_ihs</th>\n",
       "      <th>date_ihs</th>\n",
       "    </tr>\n",
       "  </thead>\n",
       "  <tbody>\n",
       "    <tr>\n",
       "      <th>0</th>\n",
       "      <td>NRC04J164TR50F</td>\n",
       "      <td>NRC04J164TR50F</td>\n",
       "      <td>NIC</td>\n",
       "      <td>NIC COMPONENTS</td>\n",
       "      <td>RESISTORS</td>\n",
       "      <td>EE_PASSIVES</td>\n",
       "      <td>FIXED RESISTORS</td>\n",
       "      <td>FIXED RESISTORS</td>\n",
       "      <td>2</td>\n",
       "      <td>100.0</td>\n",
       "      <td>2</td>\n",
       "      <td>100</td>\n",
       "      <td>2</td>\n",
       "      <td>100</td>\n",
       "      <td>ihs description</td>\n",
       "      <td>2022-05-01T00:00:00Z</td>\n",
       "    </tr>\n",
       "  </tbody>\n",
       "</table></div>"
      ],
      "text/plain": [
       "              mpn    mpn_alphanum manufacturer_ihs manufacturer_ld  \\\n",
       "0  NRC04J164TR50F  NRC04J164TR50F              NIC  NIC COMPONENTS   \n",
       "\n",
       "  commodity_ihs commodity_ld sub_commodity_ihs sub_commodity_ld  \\\n",
       "0     RESISTORS  EE_PASSIVES   FIXED RESISTORS  FIXED RESISTORS   \n",
       "\n",
       "  manufacturer_support_ihs manufacturer_evidence_ihs commodity_support_ihs  \\\n",
       "0                        2                     100.0                     2   \n",
       "\n",
       "  commodity_evidence_ihs sub_commodity_support_ihs sub_commodity_evidence_ihs  \\\n",
       "0                    100                         2                        100   \n",
       "\n",
       "   description_ihs              date_ihs  \n",
       "0  ihs description  2022-05-01T00:00:00Z  "
      ]
     },
     "execution_count": 14,
     "metadata": {},
     "output_type": "execute_result"
    },
    {
     "data": {
      "application/javascript": [
       "\n",
       "            setTimeout(function() {\n",
       "                var nbb_cell_id = 14;\n",
       "                var nbb_unformatted_code = \"%%time\\nquery = \\\"NRC04J???TR50F\\\"\\n\\nresponse = src_clnt.search(\\n    query=query,\\n    queryParser=\\\"lucene\\\",\\n    partial=True,\\n    queryOptions='{\\\"fields\\\":[\\\"_id\\\"]}',\\n)\\nparse_response(response)\";\n",
       "                var nbb_formatted_code = \"%%time\\nquery = \\\"NRC04J???TR50F\\\"\\n\\nresponse = src_clnt.search(\\n    query=query,\\n    queryParser=\\\"lucene\\\",\\n    partial=True,\\n    queryOptions='{\\\"fields\\\":[\\\"_id\\\"]}',\\n)\\nparse_response(response)\";\n",
       "                var nbb_cells = Jupyter.notebook.get_cells();\n",
       "                for (var i = 0; i < nbb_cells.length; ++i) {\n",
       "                    if (nbb_cells[i].input_prompt_number == nbb_cell_id) {\n",
       "                        if (nbb_cells[i].get_text() == nbb_unformatted_code) {\n",
       "                             nbb_cells[i].set_text(nbb_formatted_code);\n",
       "                        }\n",
       "                        break;\n",
       "                    }\n",
       "                }\n",
       "            }, 500);\n",
       "            "
      ],
      "text/plain": [
       "<IPython.core.display.Javascript object>"
      ]
     },
     "metadata": {},
     "output_type": "display_data"
    }
   ],
   "source": [
    "%%time\n",
    "query = \"NRC04J???TR50F\"\n",
    "\n",
    "response = src_clnt.search(\n",
    "    query=query,\n",
    "    queryParser=\"lucene\",\n",
    "    partial=True,\n",
    "    queryOptions='{\"fields\":[\"_id\"]}',\n",
    ")\n",
    "parse_response(response)"
   ]
  },
  {
   "cell_type": "markdown",
   "metadata": {},
   "source": [
    "#### low evidence"
   ]
  },
  {
   "cell_type": "code",
   "execution_count": 15,
   "metadata": {},
   "outputs": [
    {
     "name": "stdout",
     "output_type": "stream",
     "text": [
      "CPU times: user 73.9 ms, sys: 2.04 ms, total: 75.9 ms\n",
      "Wall time: 297 ms\n"
     ]
    },
    {
     "data": {
      "text/html": [
       "<div><div id=75fcc6f9-4637-4c9d-bca3-db0b6fb0cbb3 style=\"display:none; background-color:#9D6CFF; color:white; width:200px; height:30px; padding-left:5px; border-radius:4px; flex-direction:row; justify-content:space-around; align-items:center;\" onmouseover=\"this.style.backgroundColor='#BA9BF8'\" onmouseout=\"this.style.backgroundColor='#9D6CFF'\" onclick=\"window.commands?.execute('create-mitosheet-from-dataframe-output');\">See Full Dataframe in Mito</div> <script> if (window.commands?.hasCommand('create-mitosheet-from-dataframe-output')) document.getElementById('75fcc6f9-4637-4c9d-bca3-db0b6fb0cbb3').style.display = 'flex' </script> <table border=\"1\" class=\"dataframe\">\n",
       "  <thead>\n",
       "    <tr style=\"text-align: right;\">\n",
       "      <th></th>\n",
       "      <th>mpn</th>\n",
       "      <th>mpn_alphanum</th>\n",
       "      <th>manufacturer_ihs</th>\n",
       "      <th>manufacturer_ld</th>\n",
       "      <th>commodity_ihs</th>\n",
       "      <th>commodity_ld</th>\n",
       "      <th>sub_commodity_ihs</th>\n",
       "      <th>sub_commodity_ld</th>\n",
       "      <th>manufacturer_support_ihs</th>\n",
       "      <th>manufacturer_evidence_ihs</th>\n",
       "      <th>commodity_support_ihs</th>\n",
       "      <th>commodity_evidence_ihs</th>\n",
       "      <th>sub_commodity_support_ihs</th>\n",
       "      <th>sub_commodity_evidence_ihs</th>\n",
       "      <th>description_ihs</th>\n",
       "      <th>date_ihs</th>\n",
       "    </tr>\n",
       "  </thead>\n",
       "  <tbody>\n",
       "    <tr>\n",
       "      <th>0</th>\n",
       "      <td>2N7002KDW</td>\n",
       "      <td>2N7002KDW</td>\n",
       "      <td>DIODES</td>\n",
       "      <td>DIODES</td>\n",
       "      <td>TRANSISTORS</td>\n",
       "      <td>DISCRETE_SEMICONDUCTOR_DEVICES</td>\n",
       "      <td>SMALL SIGNAL FIELD-EFFECT TRANSISTORS</td>\n",
       "      <td>TRANSISTORS</td>\n",
       "      <td>8</td>\n",
       "      <td>50.0</td>\n",
       "      <td>8</td>\n",
       "      <td>100</td>\n",
       "      <td>8</td>\n",
       "      <td>100</td>\n",
       "      <td>ihs description</td>\n",
       "      <td>2022-05-01T00:00:00Z</td>\n",
       "    </tr>\n",
       "    <tr>\n",
       "      <th>1</th>\n",
       "      <td>742792117</td>\n",
       "      <td>742792117</td>\n",
       "      <td>WUERTH</td>\n",
       "      <td>WURTH</td>\n",
       "      <td>PASSIVE FILTERS</td>\n",
       "      <td>EE_PASSIVES</td>\n",
       "      <td>DATA LINE FILTERS</td>\n",
       "      <td>DATA LINE FILTERS</td>\n",
       "      <td>8</td>\n",
       "      <td>50.0</td>\n",
       "      <td>8</td>\n",
       "      <td>100</td>\n",
       "      <td>8</td>\n",
       "      <td>100</td>\n",
       "      <td>ihs description</td>\n",
       "      <td>2022-05-01T00:00:00Z</td>\n",
       "    </tr>\n",
       "    <tr>\n",
       "      <th>2</th>\n",
       "      <td>B0530WS</td>\n",
       "      <td>B0530WS</td>\n",
       "      <td>TAIWAN SEMI</td>\n",
       "      <td>TSMC</td>\n",
       "      <td>DIODES</td>\n",
       "      <td>DISCRETE_SEMICONDUCTOR_DEVICES</td>\n",
       "      <td>RECTIFIER DIODES</td>\n",
       "      <td>DIODES</td>\n",
       "      <td>8</td>\n",
       "      <td>50.0</td>\n",
       "      <td>12</td>\n",
       "      <td>100</td>\n",
       "      <td>12</td>\n",
       "      <td>100</td>\n",
       "      <td>ihs description</td>\n",
       "      <td>2022-05-01T00:00:00Z</td>\n",
       "    </tr>\n",
       "    <tr>\n",
       "      <th>3</th>\n",
       "      <td>B0530WS-*</td>\n",
       "      <td>B0530WS</td>\n",
       "      <td>TAIWAN SEMI</td>\n",
       "      <td>TSMC</td>\n",
       "      <td>DIODES</td>\n",
       "      <td>DISCRETE_SEMICONDUCTOR_DEVICES</td>\n",
       "      <td>RECTIFIER DIODES</td>\n",
       "      <td>DIODES</td>\n",
       "      <td>8</td>\n",
       "      <td>50.0</td>\n",
       "      <td>12</td>\n",
       "      <td>100</td>\n",
       "      <td>12</td>\n",
       "      <td>100</td>\n",
       "      <td>ihs description</td>\n",
       "      <td>2022-05-01T00:00:00Z</td>\n",
       "    </tr>\n",
       "    <tr>\n",
       "      <th>4</th>\n",
       "      <td>BAS16H</td>\n",
       "      <td>BAS16H</td>\n",
       "      <td>GALAXY SEMI</td>\n",
       "      <td>GALAXY SEMICONDUCTOR</td>\n",
       "      <td>DIODES</td>\n",
       "      <td>DISCRETE_SEMICONDUCTOR_DEVICES</td>\n",
       "      <td>RECTIFIER DIODES</td>\n",
       "      <td>DIODES</td>\n",
       "      <td>8</td>\n",
       "      <td>50.0</td>\n",
       "      <td>10</td>\n",
       "      <td>100</td>\n",
       "      <td>10</td>\n",
       "      <td>100</td>\n",
       "      <td>ihs description</td>\n",
       "      <td>2022-05-01T00:00:00Z</td>\n",
       "    </tr>\n",
       "    <tr>\n",
       "      <th>5</th>\n",
       "      <td>BAT54A-T</td>\n",
       "      <td>BAT54AT</td>\n",
       "      <td>RECTRON</td>\n",
       "      <td>RECTRON</td>\n",
       "      <td>DIODES</td>\n",
       "      <td>DISCRETE_SEMICONDUCTOR_DEVICES</td>\n",
       "      <td>RECTIFIER DIODES</td>\n",
       "      <td>DIODES</td>\n",
       "      <td>10</td>\n",
       "      <td>40.0</td>\n",
       "      <td>10</td>\n",
       "      <td>100</td>\n",
       "      <td>10</td>\n",
       "      <td>100</td>\n",
       "      <td>ihs description</td>\n",
       "      <td>2022-05-01T00:00:00Z</td>\n",
       "    </tr>\n",
       "    <tr>\n",
       "      <th>6</th>\n",
       "      <td>BAT54AT</td>\n",
       "      <td>BAT54AT</td>\n",
       "      <td>RECTRON</td>\n",
       "      <td>RECTRON</td>\n",
       "      <td>DIODES</td>\n",
       "      <td>DISCRETE_SEMICONDUCTOR_DEVICES</td>\n",
       "      <td>RECTIFIER DIODES</td>\n",
       "      <td>DIODES</td>\n",
       "      <td>10</td>\n",
       "      <td>40.0</td>\n",
       "      <td>10</td>\n",
       "      <td>100</td>\n",
       "      <td>10</td>\n",
       "      <td>100</td>\n",
       "      <td>ihs description</td>\n",
       "      <td>2022-05-01T00:00:00Z</td>\n",
       "    </tr>\n",
       "    <tr>\n",
       "      <th>7</th>\n",
       "      <td>BC817-40</td>\n",
       "      <td>BC81740</td>\n",
       "      <td>CENTRAL SEMI</td>\n",
       "      <td>CENTRAL SEMICONDUCTOR</td>\n",
       "      <td>TRANSISTORS</td>\n",
       "      <td>DISCRETE_SEMICONDUCTOR_DEVICES</td>\n",
       "      <td>SMALL SIGNAL BIPOLAR TRANSISTORS</td>\n",
       "      <td>TRANSISTORS</td>\n",
       "      <td>14</td>\n",
       "      <td>28.0</td>\n",
       "      <td>14</td>\n",
       "      <td>100</td>\n",
       "      <td>14</td>\n",
       "      <td>100</td>\n",
       "      <td>ihs description</td>\n",
       "      <td>2022-05-01T00:00:00Z</td>\n",
       "    </tr>\n",
       "    <tr>\n",
       "      <th>8</th>\n",
       "      <td>BC817.40</td>\n",
       "      <td>BC81740</td>\n",
       "      <td>CENTRAL SEMI</td>\n",
       "      <td>CENTRAL SEMICONDUCTOR</td>\n",
       "      <td>TRANSISTORS</td>\n",
       "      <td>DISCRETE_SEMICONDUCTOR_DEVICES</td>\n",
       "      <td>SMALL SIGNAL BIPOLAR TRANSISTORS</td>\n",
       "      <td>TRANSISTORS</td>\n",
       "      <td>14</td>\n",
       "      <td>28.0</td>\n",
       "      <td>14</td>\n",
       "      <td>100</td>\n",
       "      <td>14</td>\n",
       "      <td>100</td>\n",
       "      <td>ihs description</td>\n",
       "      <td>2022-05-01T00:00:00Z</td>\n",
       "    </tr>\n",
       "    <tr>\n",
       "      <th>9</th>\n",
       "      <td>BC81740</td>\n",
       "      <td>BC81740</td>\n",
       "      <td>CENTRAL SEMI</td>\n",
       "      <td>CENTRAL SEMICONDUCTOR</td>\n",
       "      <td>TRANSISTORS</td>\n",
       "      <td>DISCRETE_SEMICONDUCTOR_DEVICES</td>\n",
       "      <td>SMALL SIGNAL BIPOLAR TRANSISTORS</td>\n",
       "      <td>TRANSISTORS</td>\n",
       "      <td>14</td>\n",
       "      <td>28.0</td>\n",
       "      <td>14</td>\n",
       "      <td>100</td>\n",
       "      <td>14</td>\n",
       "      <td>100</td>\n",
       "      <td>ihs description</td>\n",
       "      <td>2022-05-01T00:00:00Z</td>\n",
       "    </tr>\n",
       "  </tbody>\n",
       "</table></div>"
      ],
      "text/plain": [
       "         mpn mpn_alphanum manufacturer_ihs        manufacturer_ld  \\\n",
       "0  2N7002KDW    2N7002KDW           DIODES                 DIODES   \n",
       "1  742792117    742792117           WUERTH                  WURTH   \n",
       "2    B0530WS      B0530WS      TAIWAN SEMI                   TSMC   \n",
       "3  B0530WS-*      B0530WS      TAIWAN SEMI                   TSMC   \n",
       "4     BAS16H       BAS16H      GALAXY SEMI   GALAXY SEMICONDUCTOR   \n",
       "5   BAT54A-T      BAT54AT          RECTRON                RECTRON   \n",
       "6    BAT54AT      BAT54AT          RECTRON                RECTRON   \n",
       "7   BC817-40      BC81740     CENTRAL SEMI  CENTRAL SEMICONDUCTOR   \n",
       "8   BC817.40      BC81740     CENTRAL SEMI  CENTRAL SEMICONDUCTOR   \n",
       "9    BC81740      BC81740     CENTRAL SEMI  CENTRAL SEMICONDUCTOR   \n",
       "\n",
       "     commodity_ihs                    commodity_ld  \\\n",
       "0      TRANSISTORS  DISCRETE_SEMICONDUCTOR_DEVICES   \n",
       "1  PASSIVE FILTERS                     EE_PASSIVES   \n",
       "2           DIODES  DISCRETE_SEMICONDUCTOR_DEVICES   \n",
       "3           DIODES  DISCRETE_SEMICONDUCTOR_DEVICES   \n",
       "4           DIODES  DISCRETE_SEMICONDUCTOR_DEVICES   \n",
       "5           DIODES  DISCRETE_SEMICONDUCTOR_DEVICES   \n",
       "6           DIODES  DISCRETE_SEMICONDUCTOR_DEVICES   \n",
       "7      TRANSISTORS  DISCRETE_SEMICONDUCTOR_DEVICES   \n",
       "8      TRANSISTORS  DISCRETE_SEMICONDUCTOR_DEVICES   \n",
       "9      TRANSISTORS  DISCRETE_SEMICONDUCTOR_DEVICES   \n",
       "\n",
       "                       sub_commodity_ihs   sub_commodity_ld  \\\n",
       "0  SMALL SIGNAL FIELD-EFFECT TRANSISTORS        TRANSISTORS   \n",
       "1                      DATA LINE FILTERS  DATA LINE FILTERS   \n",
       "2                       RECTIFIER DIODES             DIODES   \n",
       "3                       RECTIFIER DIODES             DIODES   \n",
       "4                       RECTIFIER DIODES             DIODES   \n",
       "5                       RECTIFIER DIODES             DIODES   \n",
       "6                       RECTIFIER DIODES             DIODES   \n",
       "7       SMALL SIGNAL BIPOLAR TRANSISTORS        TRANSISTORS   \n",
       "8       SMALL SIGNAL BIPOLAR TRANSISTORS        TRANSISTORS   \n",
       "9       SMALL SIGNAL BIPOLAR TRANSISTORS        TRANSISTORS   \n",
       "\n",
       "  manufacturer_support_ihs manufacturer_evidence_ihs commodity_support_ihs  \\\n",
       "0                        8                      50.0                     8   \n",
       "1                        8                      50.0                     8   \n",
       "2                        8                      50.0                    12   \n",
       "3                        8                      50.0                    12   \n",
       "4                        8                      50.0                    10   \n",
       "5                       10                      40.0                    10   \n",
       "6                       10                      40.0                    10   \n",
       "7                       14                      28.0                    14   \n",
       "8                       14                      28.0                    14   \n",
       "9                       14                      28.0                    14   \n",
       "\n",
       "  commodity_evidence_ihs sub_commodity_support_ihs sub_commodity_evidence_ihs  \\\n",
       "0                    100                         8                        100   \n",
       "1                    100                         8                        100   \n",
       "2                    100                        12                        100   \n",
       "3                    100                        12                        100   \n",
       "4                    100                        10                        100   \n",
       "5                    100                        10                        100   \n",
       "6                    100                        10                        100   \n",
       "7                    100                        14                        100   \n",
       "8                    100                        14                        100   \n",
       "9                    100                        14                        100   \n",
       "\n",
       "   description_ihs              date_ihs  \n",
       "0  ihs description  2022-05-01T00:00:00Z  \n",
       "1  ihs description  2022-05-01T00:00:00Z  \n",
       "2  ihs description  2022-05-01T00:00:00Z  \n",
       "3  ihs description  2022-05-01T00:00:00Z  \n",
       "4  ihs description  2022-05-01T00:00:00Z  \n",
       "5  ihs description  2022-05-01T00:00:00Z  \n",
       "6  ihs description  2022-05-01T00:00:00Z  \n",
       "7  ihs description  2022-05-01T00:00:00Z  \n",
       "8  ihs description  2022-05-01T00:00:00Z  \n",
       "9  ihs description  2022-05-01T00:00:00Z  "
      ]
     },
     "execution_count": 15,
     "metadata": {},
     "output_type": "execute_result"
    },
    {
     "data": {
      "application/javascript": [
       "\n",
       "            setTimeout(function() {\n",
       "                var nbb_cell_id = 15;\n",
       "                var nbb_unformatted_code = \"%%time\\n\\nquery = \\\"(range field = manufacturer_evidence_ihs {,50])\\\"\\n                   \\nresponse = src_clnt.search(\\n    query=query,\\n    queryParser=\\\"structured\\\",\\n    #partial=True,\\n    #queryOptions='{\\\"fields\\\":[\\\"_id\\\"]}',\\n    #queryOptions='{\\\"fields\\\":[\\\"manufacturer_evidence_ihs\\\"]}',\\n)\\nparse_response(response)\";\n",
       "                var nbb_formatted_code = \"%%time\\n\\nquery = \\\"(range field = manufacturer_evidence_ihs {,50])\\\"\\n                   \\nresponse = src_clnt.search(\\n    query=query,\\n    queryParser=\\\"structured\\\",\\n    #partial=True,\\n    #queryOptions='{\\\"fields\\\":[\\\"_id\\\"]}',\\n    #queryOptions='{\\\"fields\\\":[\\\"manufacturer_evidence_ihs\\\"]}',\\n)\\nparse_response(response)\";\n",
       "                var nbb_cells = Jupyter.notebook.get_cells();\n",
       "                for (var i = 0; i < nbb_cells.length; ++i) {\n",
       "                    if (nbb_cells[i].input_prompt_number == nbb_cell_id) {\n",
       "                        if (nbb_cells[i].get_text() == nbb_unformatted_code) {\n",
       "                             nbb_cells[i].set_text(nbb_formatted_code);\n",
       "                        }\n",
       "                        break;\n",
       "                    }\n",
       "                }\n",
       "            }, 500);\n",
       "            "
      ],
      "text/plain": [
       "<IPython.core.display.Javascript object>"
      ]
     },
     "metadata": {},
     "output_type": "display_data"
    }
   ],
   "source": [
    "%%time\n",
    "\n",
    "query = \"(range field = manufacturer_evidence_ihs {,50])\"\n",
    "                   \n",
    "response = src_clnt.search(\n",
    "    query=query,\n",
    "    queryParser=\"structured\",\n",
    "    #partial=True,\n",
    "    #queryOptions='{\"fields\":[\"_id\"]}',\n",
    "    #queryOptions='{\"fields\":[\"manufacturer_evidence_ihs\"]}',\n",
    ")\n",
    "parse_response(response)"
   ]
  },
  {
   "cell_type": "markdown",
   "metadata": {},
   "source": [
    "CENTRAL SEMI    4\n",
    "MCC             2\n",
    "CDIL            2\n",
    "ZETEX           2\n",
    "PANJIT          2\n",
    "NEXPERIA        2"
   ]
  },
  {
   "cell_type": "code",
   "execution_count": null,
   "metadata": {},
   "outputs": [],
   "source": []
  },
  {
   "cell_type": "code",
   "execution_count": null,
   "metadata": {},
   "outputs": [],
   "source": []
  },
  {
   "cell_type": "code",
   "execution_count": null,
   "metadata": {},
   "outputs": [],
   "source": []
  },
  {
   "cell_type": "code",
   "execution_count": null,
   "metadata": {},
   "outputs": [],
   "source": []
  }
 ],
 "metadata": {
  "kernelspec": {
   "display_name": "Python 3 (ipykernel)",
   "language": "python",
   "name": "python3"
  },
  "language_info": {
   "codemirror_mode": {
    "name": "ipython",
    "version": 3
   },
   "file_extension": ".py",
   "mimetype": "text/x-python",
   "name": "python",
   "nbconvert_exporter": "python",
   "pygments_lexer": "ipython3",
   "version": "3.8.12"
  },
  "toc": {
   "base_numbering": 1,
   "nav_menu": {},
   "number_sections": true,
   "sideBar": true,
   "skip_h1_title": false,
   "title_cell": "Table of Contents",
   "title_sidebar": "Contents",
   "toc_cell": false,
   "toc_position": {
    "height": "calc(100% - 180px)",
    "left": "10px",
    "top": "150px",
    "width": "165px"
   },
   "toc_section_display": true,
   "toc_window_display": true
  }
 },
 "nbformat": 4,
 "nbformat_minor": 4
}
